{
 "cells": [
  {
   "cell_type": "code",
   "execution_count": 1,
   "id": "2e3c3ae1-a40f-4f52-8177-c4c61906fe81",
   "metadata": {},
   "outputs": [
    {
     "name": "stdout",
     "output_type": "stream",
     "text": [
      "hi\n"
     ]
    }
   ],
   "source": [
    "###author : Haim krupkin\n",
    "#date:04_22_2025\n",
    "###descriptions:####\n",
    "#This code is intended to identifiy which mutations and in which proteins are pathogenic  clinvar for cluster 41280 which binds zinc\n",
    "#\n",
    "\n",
    "print(\"hi\")"
   ]
  },
  {
   "cell_type": "code",
   "execution_count": 2,
   "id": "28fe2b50-efa4-47bc-9a78-78f551c661db",
   "metadata": {},
   "outputs": [
    {
     "name": "stderr",
     "output_type": "stream",
     "text": [
      "/oak/stanford/groups/rbaltman/aderry/miniconda3/envs/parse/lib/python3.10/site-packages/torch_geometric/typing.py:42: UserWarning: An issue occurred while importing 'torch-sparse'. Disabling its usage. Stacktrace: /lib64/libm.so.6: version `GLIBC_2.29' not found (required by /oak/stanford/groups/rbaltman/aderry/miniconda3/envs/parse/lib/python3.10/site-packages/torch_sparse/_metis_cuda.so)\n",
      "  warnings.warn(f\"An issue occurred while importing 'torch-sparse'. \"\n"
     ]
    }
   ],
   "source": [
    "import pandas as pd\n",
    "import numpy as np\n",
    "from atom3d.datasets import load_dataset\n",
    "from tqdm import tqdm\n",
    "import collections as col\n",
    "from collapse.utils import pdb_from_fname, deserialize\n",
    "from collapse.atom_info import aa_to_letter\n",
    "import matplotlib.pyplot as plt\n",
    "import seaborn as sns"
   ]
  },
  {
   "cell_type": "code",
   "execution_count": 3,
   "id": "67be3e40-6278-481c-937e-1c8c2b537f3a",
   "metadata": {},
   "outputs": [],
   "source": [
    "from collections import defaultdict  # Make sure to import defaultdict\n"
   ]
  },
  {
   "cell_type": "code",
   "execution_count": 4,
   "id": "cc46c3ab-848d-4fc2-93df-89cded0bb368",
   "metadata": {},
   "outputs": [],
   "source": [
    "k = 50000\n",
    "cluster_cts = deserialize(f'data/af2_human_cluster_cts_{k}.pkl')\n",
    "#cluster_mutations = deserialize(f'data/af2_human_cluster_variants_{k}.pkl')\n",
    "uniprot_clusters = deserialize(f'data/af2_human_cluster_resids_{k}.pkl')\n",
    "cluster_refs = deserialize(f'data/af2_human_cluster_variant_refs_{k}.pkl')"
   ]
  },
  {
   "cell_type": "code",
   "execution_count": 5,
   "id": "846ae763-9957-4748-8dff-5e6413ffceed",
   "metadata": {},
   "outputs": [
    {
     "name": "stdout",
     "output_type": "stream",
     "text": [
      "        uniprot_id       label residue_defintions_with_positions\n",
      "1           P25092     unknown                             A1051\n",
      "2           Q7Z3K3     unknown                              A568\n",
      "3           P58012     unknown                               A14\n",
      "4           P35680  pathogenic                              A373\n",
      "5           O95409     unknown                               A26\n",
      "...            ...         ...                               ...\n",
      "2714070     Q9C0A6      benign                              NANA\n",
      "2714071     P61764  pathogenic                              NANA\n",
      "2714072     Q86WG5      benign                              NANA\n",
      "2714073     P07196      benign                              NANA\n",
      "2714074     Q9BTV4      benign                              NANA\n",
      "\n",
      "[2714074 rows x 3 columns]\n"
     ]
    }
   ],
   "source": [
    "clinvar_data_path = \"/oak/stanford/groups/rbaltman/hkrupkin/COLLAPSE_WORK/clinvar.txt\"\n",
    "clinvar_data = pd.read_csv(clinvar_data_path, sep=' ')  # Adjust sep if needed\n",
    "\n",
    "# Display the DataFrame (optional)\n",
    "print(clinvar_data)"
   ]
  },
  {
   "cell_type": "code",
   "execution_count": 6,
   "id": "36211e7f-8764-4122-906f-899cfc0c5ce8",
   "metadata": {},
   "outputs": [
    {
     "data": {
      "text/plain": [
       "23075"
      ]
     },
     "execution_count": 6,
     "metadata": {},
     "output_type": "execute_result"
    }
   ],
   "source": [
    "len(cluster_refs)"
   ]
  },
  {
   "cell_type": "code",
   "execution_count": 7,
   "id": "c32968da-6b42-465e-b388-85aae85ef163",
   "metadata": {},
   "outputs": [],
   "source": [
    "rows = []\n",
    "for cluster_id, amino_acids in cluster_refs.items():\n",
    "    for amino_acid_id in amino_acids:\n",
    "        rows.append({'cluster_id': cluster_id, 'amino_acid_id': amino_acid_id})\n",
    "\n",
    "# Create DataFrame\n",
    "cluster_and_id = pd.DataFrame(rows)\n",
    "cluster_and_id[['uniprot_id', 'amino_acid']] = cluster_and_id['amino_acid_id'].str.split('_', expand=True)\n",
    "#cluster_and_id"
   ]
  },
  {
   "cell_type": "code",
   "execution_count": 8,
   "id": "d4c02a0f-72f9-48b9-b1d4-a940b138c4e6",
   "metadata": {},
   "outputs": [
    {
     "data": {
      "text/html": [
       "<div>\n",
       "<style scoped>\n",
       "    .dataframe tbody tr th:only-of-type {\n",
       "        vertical-align: middle;\n",
       "    }\n",
       "\n",
       "    .dataframe tbody tr th {\n",
       "        vertical-align: top;\n",
       "    }\n",
       "\n",
       "    .dataframe thead th {\n",
       "        text-align: right;\n",
       "    }\n",
       "</style>\n",
       "<table border=\"1\" class=\"dataframe\">\n",
       "  <thead>\n",
       "    <tr style=\"text-align: right;\">\n",
       "      <th></th>\n",
       "      <th>uniprot_id</th>\n",
       "      <th>label</th>\n",
       "      <th>residue_defintions_with_positions</th>\n",
       "      <th>cluster_id</th>\n",
       "      <th>amino_acid_id</th>\n",
       "      <th>amino_acid</th>\n",
       "    </tr>\n",
       "  </thead>\n",
       "  <tbody>\n",
       "    <tr>\n",
       "      <th>0</th>\n",
       "      <td>P25092</td>\n",
       "      <td>unknown</td>\n",
       "      <td>A1051</td>\n",
       "      <td>NaN</td>\n",
       "      <td>NaN</td>\n",
       "      <td>NaN</td>\n",
       "    </tr>\n",
       "    <tr>\n",
       "      <th>1</th>\n",
       "      <td>Q7Z3K3</td>\n",
       "      <td>unknown</td>\n",
       "      <td>A568</td>\n",
       "      <td>NaN</td>\n",
       "      <td>NaN</td>\n",
       "      <td>NaN</td>\n",
       "    </tr>\n",
       "    <tr>\n",
       "      <th>2</th>\n",
       "      <td>P58012</td>\n",
       "      <td>unknown</td>\n",
       "      <td>A14</td>\n",
       "      <td>NaN</td>\n",
       "      <td>NaN</td>\n",
       "      <td>NaN</td>\n",
       "    </tr>\n",
       "    <tr>\n",
       "      <th>3</th>\n",
       "      <td>P35680</td>\n",
       "      <td>pathogenic</td>\n",
       "      <td>A373</td>\n",
       "      <td>NaN</td>\n",
       "      <td>NaN</td>\n",
       "      <td>NaN</td>\n",
       "    </tr>\n",
       "    <tr>\n",
       "      <th>4</th>\n",
       "      <td>P35680</td>\n",
       "      <td>unknown</td>\n",
       "      <td>A373</td>\n",
       "      <td>NaN</td>\n",
       "      <td>NaN</td>\n",
       "      <td>NaN</td>\n",
       "    </tr>\n",
       "    <tr>\n",
       "      <th>...</th>\n",
       "      <td>...</td>\n",
       "      <td>...</td>\n",
       "      <td>...</td>\n",
       "      <td>...</td>\n",
       "      <td>...</td>\n",
       "      <td>...</td>\n",
       "    </tr>\n",
       "    <tr>\n",
       "      <th>2732927</th>\n",
       "      <td>Q9Y6K1</td>\n",
       "      <td>NaN</td>\n",
       "      <td>NaN</td>\n",
       "      <td>48587.0</td>\n",
       "      <td>Q9Y6K1_P700</td>\n",
       "      <td>P700</td>\n",
       "    </tr>\n",
       "    <tr>\n",
       "      <th>2732928</th>\n",
       "      <td>Q9Y6N3</td>\n",
       "      <td>NaN</td>\n",
       "      <td>NaN</td>\n",
       "      <td>32274.0</td>\n",
       "      <td>Q9Y6N3_I104</td>\n",
       "      <td>I104</td>\n",
       "    </tr>\n",
       "    <tr>\n",
       "      <th>2732929</th>\n",
       "      <td>Q9Y6N9</td>\n",
       "      <td>NaN</td>\n",
       "      <td>NaN</td>\n",
       "      <td>39700.0</td>\n",
       "      <td>Q9Y6N9_E519</td>\n",
       "      <td>E519</td>\n",
       "    </tr>\n",
       "    <tr>\n",
       "      <th>2732930</th>\n",
       "      <td>Q9Y6R1</td>\n",
       "      <td>NaN</td>\n",
       "      <td>NaN</td>\n",
       "      <td>8006.0</td>\n",
       "      <td>Q9Y6R1_A843</td>\n",
       "      <td>A843</td>\n",
       "    </tr>\n",
       "    <tr>\n",
       "      <th>2732931</th>\n",
       "      <td>Q9Y6Y9</td>\n",
       "      <td>NaN</td>\n",
       "      <td>NaN</td>\n",
       "      <td>48798.0</td>\n",
       "      <td>Q9Y6Y9_R56</td>\n",
       "      <td>R56</td>\n",
       "    </tr>\n",
       "  </tbody>\n",
       "</table>\n",
       "<p>2732932 rows × 6 columns</p>\n",
       "</div>"
      ],
      "text/plain": [
       "        uniprot_id       label residue_defintions_with_positions  cluster_id  \\\n",
       "0           P25092     unknown                             A1051         NaN   \n",
       "1           Q7Z3K3     unknown                              A568         NaN   \n",
       "2           P58012     unknown                               A14         NaN   \n",
       "3           P35680  pathogenic                              A373         NaN   \n",
       "4           P35680     unknown                              A373         NaN   \n",
       "...            ...         ...                               ...         ...   \n",
       "2732927     Q9Y6K1         NaN                               NaN     48587.0   \n",
       "2732928     Q9Y6N3         NaN                               NaN     32274.0   \n",
       "2732929     Q9Y6N9         NaN                               NaN     39700.0   \n",
       "2732930     Q9Y6R1         NaN                               NaN      8006.0   \n",
       "2732931     Q9Y6Y9         NaN                               NaN     48798.0   \n",
       "\n",
       "        amino_acid_id amino_acid  \n",
       "0                 NaN        NaN  \n",
       "1                 NaN        NaN  \n",
       "2                 NaN        NaN  \n",
       "3                 NaN        NaN  \n",
       "4                 NaN        NaN  \n",
       "...               ...        ...  \n",
       "2732927   Q9Y6K1_P700       P700  \n",
       "2732928   Q9Y6N3_I104       I104  \n",
       "2732929   Q9Y6N9_E519       E519  \n",
       "2732930   Q9Y6R1_A843       A843  \n",
       "2732931    Q9Y6Y9_R56        R56  \n",
       "\n",
       "[2732932 rows x 6 columns]"
      ]
     },
     "execution_count": 8,
     "metadata": {},
     "output_type": "execute_result"
    }
   ],
   "source": [
    "df_cluster_mutations_clinvar=pd.merge(clinvar_data,\n",
    "                                      cluster_and_id,\n",
    "                                      left_on=['uniprot_id', 'residue_defintions_with_positions'], \n",
    "                     right_on=['uniprot_id', 'amino_acid'], \n",
    "                     how='outer')#how='inner' #version origanl is inner\n",
    "                                     \n",
    "df_cluster_mutations_clinvar"
   ]
  },
  {
   "cell_type": "code",
   "execution_count": 9,
   "id": "a67df9ab-441a-4350-b999-284cfbb52556",
   "metadata": {},
   "outputs": [
    {
     "data": {
      "text/html": [
       "<div>\n",
       "<style scoped>\n",
       "    .dataframe tbody tr th:only-of-type {\n",
       "        vertical-align: middle;\n",
       "    }\n",
       "\n",
       "    .dataframe tbody tr th {\n",
       "        vertical-align: top;\n",
       "    }\n",
       "\n",
       "    .dataframe thead th {\n",
       "        text-align: right;\n",
       "    }\n",
       "</style>\n",
       "<table border=\"1\" class=\"dataframe\">\n",
       "  <thead>\n",
       "    <tr style=\"text-align: right;\">\n",
       "      <th></th>\n",
       "      <th>uniprot_id</th>\n",
       "      <th>label</th>\n",
       "      <th>residue_defintions_with_positions</th>\n",
       "      <th>cluster_id</th>\n",
       "      <th>amino_acid_id</th>\n",
       "      <th>amino_acid</th>\n",
       "    </tr>\n",
       "  </thead>\n",
       "  <tbody>\n",
       "  </tbody>\n",
       "</table>\n",
       "</div>"
      ],
      "text/plain": [
       "Empty DataFrame\n",
       "Columns: [uniprot_id, label, residue_defintions_with_positions, cluster_id, amino_acid_id, amino_acid]\n",
       "Index: []"
      ]
     },
     "execution_count": 9,
     "metadata": {},
     "output_type": "execute_result"
    }
   ],
   "source": [
    "###we are gonna identifiy the mutations of intrest and their uniprot and this\n",
    "#will be used to identify\n",
    "#the mutations we want to plot\n",
    "#the cluster of intrest is : 41280\n",
    "#df_cluster_mutations_clinvar[df_cluster_mutations_clinvar[\"cluster_id\"] == 41280]\n",
    "#df_cluster_mutations_clinvar[df_cluster_mutations_clinvar[\"cluster_id\"] == 32854]\n",
    "df_cluster_mutations_clinvar[df_cluster_mutations_clinvar[\"cluster_id\"] == 46115]\n"
   ]
  },
  {
   "cell_type": "code",
   "execution_count": null,
   "id": "fab92188-230b-4acf-80d9-d409f4b3295b",
   "metadata": {},
   "outputs": [],
   "source": [
    "file_name = '/oak/stanford/groups/rbaltman/hkrupkin/COLLAPSE_WORK/df_cluster_mutations_clinvar.csv'\n",
    "\n",
    "# Write the DataFrame to a CSV file\n",
    "df_cluster_mutations_clinvar.to_csv(file_name, index=False)\n",
    "\n",
    "print(f'DataFrame written to {file_name}')"
   ]
  }
 ],
 "metadata": {
  "kernelspec": {
   "display_name": "Python 3 (ipykernel)",
   "language": "python",
   "name": "python3"
  },
  "language_info": {
   "codemirror_mode": {
    "name": "ipython",
    "version": 3
   },
   "file_extension": ".py",
   "mimetype": "text/x-python",
   "name": "python",
   "nbconvert_exporter": "python",
   "pygments_lexer": "ipython3",
   "version": "3.10.12"
  }
 },
 "nbformat": 4,
 "nbformat_minor": 5
}